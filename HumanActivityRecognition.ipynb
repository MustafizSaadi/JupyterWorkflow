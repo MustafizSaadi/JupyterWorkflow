{
 "cells": [
  {
   "cell_type": "code",
   "execution_count": 47,
   "metadata": {},
   "outputs": [],
   "source": [
    "import numpy as np\n",
    "import pandas as pd\n",
    "import quandl as qd\n",
    "import matplotlib.pyplot as plt\n",
    "from matplotlib import style\n",
    "import math\n",
    "import sklearn\n",
    "from sklearn import preprocessing, cross_validation, svm\n",
    "import statistics as stat \n",
    "import scipy.optimize as opt\n",
    "import sys\n",
    "import random"
   ]
  },
  {
   "cell_type": "code",
   "execution_count": 13,
   "metadata": {},
   "outputs": [],
   "source": [
    "df_train=pd.read_csv('human_activity_recognition_train.csv',delimiter=',')\n",
    "df_train=df_train.sample(frac=1).reset_index(drop=True)\n",
    "# print(df_train)"
   ]
  },
  {
   "cell_type": "code",
   "execution_count": 32,
   "metadata": {},
   "outputs": [
    {
     "name": "stdout",
     "output_type": "stream",
     "text": [
      "(561, 7352) (6, 7352)\n"
     ]
    }
   ],
   "source": [
    "X_train = np.array(df_train.drop(['Activity','subject'], 1))\n",
    "y_train = np.array(df_train['Activity'])\n",
    "X_train = X_train.T\n",
    "y_train = labeling(len(np.unique(y_train)),m,y_train)\n",
    "print(X_train.shape,y_train.shape)"
   ]
  },
  {
   "cell_type": "code",
   "execution_count": 36,
   "metadata": {},
   "outputs": [],
   "source": [
    "# 561 input layer,1 hidden layer,6 output layer\n",
    "X_train=np.vstack((np.array(np.ones(X_train.shape[1])),X_train))"
   ]
  },
  {
   "cell_type": "code",
   "execution_count": 31,
   "metadata": {},
   "outputs": [],
   "source": [
    "def labeling(n,m,y):\n",
    "#     print(n)\n",
    "    string = {\"WALKING\":0, \"WALKING_UPSTAIRS\":1, \"WALKING_DOWNSTAIRS\":2, \"SITTING\":3, \"STANDING\":4, \"LAYING\":5}\n",
    "    y_train = np.array(np.zeros((n,m)))\n",
    "    for i in range(m):\n",
    "        y_train[string[y[i]]][i]=1\n",
    "    return y_train\n",
    "    "
   ]
  },
  {
   "cell_type": "code",
   "execution_count": 83,
   "metadata": {},
   "outputs": [
    {
     "name": "stdout",
     "output_type": "stream",
     "text": [
      "(562, 7352)\n",
      "(30, 562) (6, 31)\n",
      "(30, 562) (6, 31)\n",
      "4.2394200322789235\n",
      "(17046,)\n"
     ]
    }
   ],
   "source": [
    "n,m =X_train.shape\n",
    "label = y_train.shape[0]\n",
    "hidden_layer_size=30\n",
    "print(X_train.shape)\n",
    "init_theta1 = random_init(n,hidden_layer_size)\n",
    "init_theta2 = random_init(hidden_layer_size+1,label)\n",
    "print(init_theta1.shape,init_theta2.shape)\n",
    "theta=np.concatenate([init_theta1.ravel(),init_theta2.ravel()])\n",
    "lamda = 0.5\n",
    "print(nnCostFunction(theta,n,hidden_layer_size,label,X_train,y_train,lamda))\n",
    "# theta = [init_theta1[:];init_theta2[:]]\n",
    "print(theta.shape)"
   ]
  },
  {
   "cell_type": "code",
   "execution_count": 44,
   "metadata": {},
   "outputs": [],
   "source": [
    "def random_init(input_layer_size,hidden_layer_size):\n",
    "    eps=0.12\n",
    "    theta = np.random.rand(hidden_layer_size,input_layer_size)\n",
    "    theta = (theta * 2 *eps) -eps\n",
    "    return theta"
   ]
  },
  {
   "cell_type": "code",
   "execution_count": 76,
   "metadata": {},
   "outputs": [],
   "source": [
    "def nnCostFunction(theta,input_layer_size,hidden_layer_size,num_label,X,y,lamda):\n",
    "    m=X.shape[1]\n",
    "    theta1 = np.reshape(theta[:input_layer_size*hidden_layer_size],(hidden_layer_size,input_layer_size))\n",
    "    theta2 = np.reshape(theta[-num_label*(hidden_layer_size+1):],(num_label,hidden_layer_size+1))\n",
    "    print(theta1.shape,theta2.shape)\n",
    "    z2 = np.dot(theta1,X)\n",
    "    a2 = sigmoid(z2)\n",
    "    a2 = np.vstack((np.array(np.ones(a2.shape[1])),a2))\n",
    "    z3 = np.dot(theta2,a2)\n",
    "    a3 = sigmoid(z3)\n",
    "    lg1 = np.multiply(-1*y,np.log(a3))\n",
    "    lg2 = np.multiply((1-y),np.log(1-a3))\n",
    "    lg = lg1-lg2\n",
    "    j = np.sum(lg)/m\n",
    "    val = np.sum(np.multiply(theta1,theta1))\n",
    "    val += np.sum(np.multiply(theta2,theta2))\n",
    "    val = val*(lamda/(2*m))\n",
    "    j += val\n",
    "    return j\n",
    "    \n",
    "    "
   ]
  },
  {
   "cell_type": "code",
   "execution_count": 67,
   "metadata": {},
   "outputs": [],
   "source": [
    "def sigmoid(z):\n",
    "    return 1/(1+np.exp(-z))"
   ]
  },
  {
   "cell_type": "code",
   "execution_count": null,
   "metadata": {},
   "outputs": [],
   "source": []
  }
 ],
 "metadata": {
  "kernelspec": {
   "display_name": "Python 3",
   "language": "python",
   "name": "python3"
  },
  "language_info": {
   "codemirror_mode": {
    "name": "ipython",
    "version": 3
   },
   "file_extension": ".py",
   "mimetype": "text/x-python",
   "name": "python",
   "nbconvert_exporter": "python",
   "pygments_lexer": "ipython3",
   "version": "3.6.4"
  }
 },
 "nbformat": 4,
 "nbformat_minor": 2
}
