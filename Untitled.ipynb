{
 "cells": [
  {
   "cell_type": "code",
   "execution_count": 20,
   "metadata": {},
   "outputs": [],
   "source": [
    "import numpy as np\n",
    "import pandas as pd\n",
    "import quandl as qd\n",
    "import math\n",
    "import sklearn\n",
    "from sklearn import preprocessing, cross_validation, svm\n",
    "from sklearn.linear_model import LinearRegression\n",
    "import matplotlib.pyplot as plt\n",
    "from matplotlib import style\n",
    "import datetime\n",
    "\n",
    "style.use('ggplot')"
   ]
  },
  {
   "cell_type": "code",
   "execution_count": 16,
   "metadata": {},
   "outputs": [],
   "source": [
    "df = qd.get(\"WIKI/GOOGL\")"
   ]
  },
  {
   "cell_type": "code",
   "execution_count": 17,
   "metadata": {},
   "outputs": [],
   "source": [
    "df = df[['Adj. Open',  'Adj. High',  'Adj. Low',  'Adj. Close', 'Adj. Volume']]\n",
    "df['HL_PCT'] = (df['Adj. High'] - df['Adj. Low']) / df['Adj. Close'] * 100.0\n",
    "df['PCT_change'] = (df['Adj. Close'] - df['Adj. Open']) / df['Adj. Open'] * 100.0\n",
    "df = df[['Adj. Close', 'HL_PCT', 'PCT_change', 'Adj. Volume']]\n",
    "# print(df.head)\n",
    "forecast_col = 'Adj. Close'\n",
    "df.fillna(value=-99999, inplace=True)\n",
    "forecast_out = int(math.ceil(0.01 * len(df)))\n",
    "df['label'] = df[forecast_col].shift(-forecast_out)\n",
    "# print(df.head)"
   ]
  },
  {
   "cell_type": "code",
   "execution_count": 18,
   "metadata": {},
   "outputs": [
    {
     "name": "stdout",
     "output_type": "stream",
     "text": [
      "[1095.833216   1068.40823622 1012.95405844 1053.57136851 1070.01820278\n",
      " 1070.98422964 1088.24688903 1106.6617118  1112.118908   1119.2052012\n",
      " 1128.83768229 1125.97696202 1144.80473206 1161.32759911 1131.9992671\n",
      " 1118.8023739  1082.48840493 1098.22408614 1110.13246128 1118.51335171\n",
      " 1131.0893841  1146.99987235 1177.03195271 1182.69248486 1152.21053152\n",
      " 1165.82232185 1166.29937977 1149.32854593 1113.90367235 1111.15952778\n",
      " 1109.88974272 1065.59360729 1037.83544286 1065.20991399 1012.98694108] 0.975954652671295 35\n"
     ]
    }
   ],
   "source": [
    "X = np.array(df.drop(['label'], 1))\n",
    "X = preprocessing.scale(X)\n",
    "X_lately = X[-forecast_out:]\n",
    "X = X[:-forecast_out]\n",
    "df.dropna(inplace=True)\n",
    "y = np.array(df['label'])\n",
    "X_train, X_test, y_train, y_test = cross_validation.train_test_split(X, y, test_size=0.2)\n",
    "clf = LinearRegression(n_jobs=-1)\n",
    "clf.fit(X_train, y_train)\n",
    "accuracy = clf.score(X_test,y_test)\n",
    "forecast_set = clf.predict(X_lately)\n",
    "# print(forecast_set, accuracy, forecast_out)"
   ]
  },
  {
   "cell_type": "code",
   "execution_count": 31,
   "metadata": {
    "scrolled": true
   },
   "outputs": [
    {
     "data": {
      "image/png": "[encoded data removed]",
      "text/plain": [
       "<matplotlib.figure.Figure at 0x28283567358>"
      ]
     },
     "metadata": {},
     "output_type": "display_data"
    }
   ],
   "source": [
    "df['Forecast'] = np.nan\n",
    "\n",
    "last_date = df.iloc[-1].name\n",
    "last_unix = last_date.timestamp()\n",
    "one_day = 86400\n",
    "next_unix = last_unix + one_day\n",
    "\n",
    "for i in forecast_set:\n",
    "    next_date = datetime.datetime.fromtimestamp(next_unix)\n",
    "    next_unix += 86400\n",
    "    df.loc[next_date] = [np.nan for _ in range(len(df.columns)-1)]+[i]\n",
    "\n",
    "df['Adj. Close'].plot()\n",
    "df['Forecast'].plot()\n",
    "plt.legend(loc=4)\n",
    "plt.xlabel('Date')\n",
    "plt.ylabel('Price')\n",
    "plt.show()\n"
   ]
  },
  {
   "cell_type": "code",
   "execution_count": 22,
   "metadata": {},
   "outputs": [
    {
     "name": "stdout",
     "output_type": "stream",
     "text": [
      "<bound method NDFrame.head of                      Adj. Close    HL_PCT  PCT_change  Adj. Volume      label  \\\n",
      "Date                                                                            \n",
      "2004-08-19 00:00:00   50.322842  8.072956    0.324968   44659000.0  69.078238   \n",
      "2004-08-20 00:00:00   54.322689  7.921706    7.227007   22834300.0  67.839414   \n",
      "2004-08-23 00:00:00   54.869377  4.049360   -1.227880   18256100.0  68.912727   \n",
      "2004-08-24 00:00:00   52.597363  7.657099   -5.726357   15247300.0  70.668146   \n",
      "2004-08-25 00:00:00   53.164113  3.886792    1.183658    9188600.0  71.219849   \n",
      "2004-08-26 00:00:00   54.122070  3.048837    2.820391    7094800.0  72.278116   \n",
      "2004-08-27 00:00:00   53.239345  2.760245   -1.803885    6211700.0  74.810934   \n",
      "2004-08-30 00:00:00   51.162935  3.411430   -3.106003    5196700.0  74.199045   \n",
      "2004-08-31 00:00:00   51.343492  1.514115    0.048866    4917800.0  70.462511   \n",
      "2004-09-01 00:00:00   50.280210  3.291771   -2.385589    9138200.0  74.921275   \n",
      "2004-09-02 00:00:00   50.912161  3.378977    2.442224   15118600.0  86.481962   \n",
      "2004-09-03 00:00:00   50.159839  2.419758   -0.931154    5152400.0  93.990139   \n",
      "2004-09-07 00:00:00   50.947269  2.352825    0.564301    5847500.0  91.181468   \n",
      "2004-09-08 00:00:00   51.308384  2.473118    1.548541    4985600.0  93.272925   \n",
      "2004-09-09 00:00:00   51.313400  1.671391   -0.185366    4061700.0  96.949273   \n",
      "2004-09-10 00:00:00   52.828075  4.993829    3.804080    8698800.0  95.615155   \n",
      "2004-09-13 00:00:00   53.916435  1.813953    0.815905    7844100.0  98.318500   \n",
      "2004-09-14 00:00:00   55.917612  4.673065    3.769546   10828900.0  97.736704   \n",
      "2004-09-15 00:00:00   56.173402  3.598214    1.302460   10713000.0  96.131750   \n",
      "2004-09-16 00:00:00   57.161452  3.641309    1.450952    9266300.0  92.635958   \n",
      "2004-09-17 00:00:00   58.926902  3.353477    2.683097    9472500.0  84.937193   \n",
      "2004-09-20 00:00:00   59.864797  4.046582    2.060710   10628700.0  86.542147   \n",
      "2004-09-21 00:00:00   59.102444  2.469450   -1.963394    7228700.0  84.611187   \n",
      "2004-09-22 00:00:00   59.373280  2.415949    0.791826    7581200.0  84.189886   \n",
      "2004-09-23 00:00:00   60.597057  4.643271    1.666106    8535600.0  91.793357   \n",
      "2004-09-24 00:00:00   60.100525  3.621798   -0.942382    9123400.0  91.281778   \n",
      "2004-09-27 00:00:00   59.313094  2.604431   -1.087320    7066100.0  92.721222   \n",
      "2004-09-28 00:00:00   63.626409  5.667665    4.713165   16929000.0  86.539640   \n",
      "2004-09-29 00:00:00   65.742942  6.705829    3.595985   30516400.0  86.517070   \n",
      "2004-09-30 00:00:00   65.000651  2.546296   -0.230179   13758000.0  84.029391   \n",
      "...                         ...       ...         ...          ...        ...   \n",
      "2018-02-11 06:00:00         NaN       NaN         NaN          NaN        NaN   \n",
      "2018-02-12 06:00:00         NaN       NaN         NaN          NaN        NaN   \n",
      "2018-02-13 06:00:00         NaN       NaN         NaN          NaN        NaN   \n",
      "2018-02-14 06:00:00         NaN       NaN         NaN          NaN        NaN   \n",
      "2018-02-15 06:00:00         NaN       NaN         NaN          NaN        NaN   \n",
      "2018-02-16 06:00:00         NaN       NaN         NaN          NaN        NaN   \n",
      "2018-02-17 06:00:00         NaN       NaN         NaN          NaN        NaN   \n",
      "2018-02-18 06:00:00         NaN       NaN         NaN          NaN        NaN   \n",
      "2018-02-19 06:00:00         NaN       NaN         NaN          NaN        NaN   \n",
      "2018-02-20 06:00:00         NaN       NaN         NaN          NaN        NaN   \n",
      "2018-02-21 06:00:00         NaN       NaN         NaN          NaN        NaN   \n",
      "2018-02-22 06:00:00         NaN       NaN         NaN          NaN        NaN   \n",
      "2018-02-23 06:00:00         NaN       NaN         NaN          NaN        NaN   \n",
      "2018-02-24 06:00:00         NaN       NaN         NaN          NaN        NaN   \n",
      "2018-02-25 06:00:00         NaN       NaN         NaN          NaN        NaN   \n",
      "2018-02-26 06:00:00         NaN       NaN         NaN          NaN        NaN   \n",
      "2018-02-27 06:00:00         NaN       NaN         NaN          NaN        NaN   \n",
      "2018-02-28 06:00:00         NaN       NaN         NaN          NaN        NaN   \n",
      "2018-03-01 06:00:00         NaN       NaN         NaN          NaN        NaN   \n",
      "2018-03-02 06:00:00         NaN       NaN         NaN          NaN        NaN   \n",
      "2018-03-03 06:00:00         NaN       NaN         NaN          NaN        NaN   \n",
      "2018-03-04 06:00:00         NaN       NaN         NaN          NaN        NaN   \n",
      "2018-03-05 06:00:00         NaN       NaN         NaN          NaN        NaN   \n",
      "2018-03-06 06:00:00         NaN       NaN         NaN          NaN        NaN   \n",
      "2018-03-07 06:00:00         NaN       NaN         NaN          NaN        NaN   \n",
      "2018-03-08 06:00:00         NaN       NaN         NaN          NaN        NaN   \n",
      "2018-03-09 06:00:00         NaN       NaN         NaN          NaN        NaN   \n",
      "2018-03-10 06:00:00         NaN       NaN         NaN          NaN        NaN   \n",
      "2018-03-11 06:00:00         NaN       NaN         NaN          NaN        NaN   \n",
      "2018-03-12 06:00:00         NaN       NaN         NaN          NaN        NaN   \n",
      "\n",
      "                        Forecast  \n",
      "Date                              \n",
      "2004-08-19 00:00:00          NaN  \n",
      "2004-08-20 00:00:00          NaN  \n",
      "2004-08-23 00:00:00          NaN  \n",
      "2004-08-24 00:00:00          NaN  \n",
      "2004-08-25 00:00:00          NaN  \n",
      "2004-08-26 00:00:00          NaN  \n",
      "2004-08-27 00:00:00          NaN  \n",
      "2004-08-30 00:00:00          NaN  \n",
      "2004-08-31 00:00:00          NaN  \n",
      "2004-09-01 00:00:00          NaN  \n",
      "2004-09-02 00:00:00          NaN  \n",
      "2004-09-03 00:00:00          NaN  \n",
      "2004-09-07 00:00:00          NaN  \n",
      "2004-09-08 00:00:00          NaN  \n",
      "2004-09-09 00:00:00          NaN  \n",
      "2004-09-10 00:00:00          NaN  \n",
      "2004-09-13 00:00:00          NaN  \n",
      "2004-09-14 00:00:00          NaN  \n",
      "2004-09-15 00:00:00          NaN  \n",
      "2004-09-16 00:00:00          NaN  \n",
      "2004-09-17 00:00:00          NaN  \n",
      "2004-09-20 00:00:00          NaN  \n",
      "2004-09-21 00:00:00          NaN  \n",
      "2004-09-22 00:00:00          NaN  \n",
      "2004-09-23 00:00:00          NaN  \n",
      "2004-09-24 00:00:00          NaN  \n",
      "2004-09-27 00:00:00          NaN  \n",
      "2004-09-28 00:00:00          NaN  \n",
      "2004-09-29 00:00:00          NaN  \n",
      "2004-09-30 00:00:00          NaN  \n",
      "...                          ...  \n",
      "2018-02-11 06:00:00  1070.984230  \n",
      "2018-02-12 06:00:00  1088.246889  \n",
      "2018-02-13 06:00:00  1106.661712  \n",
      "2018-02-14 06:00:00  1112.118908  \n",
      "2018-02-15 06:00:00  1119.205201  \n",
      "2018-02-16 06:00:00  1128.837682  \n",
      "2018-02-17 06:00:00  1125.976962  \n",
      "2018-02-18 06:00:00  1144.804732  \n",
      "2018-02-19 06:00:00  1161.327599  \n",
      "2018-02-20 06:00:00  1131.999267  \n",
      "2018-02-21 06:00:00  1118.802374  \n",
      "2018-02-22 06:00:00  1082.488405  \n",
      "2018-02-23 06:00:00  1098.224086  \n",
      "2018-02-24 06:00:00  1110.132461  \n",
      "2018-02-25 06:00:00  1118.513352  \n",
      "2018-02-26 06:00:00  1131.089384  \n",
      "2018-02-27 06:00:00  1146.999872  \n",
      "2018-02-28 06:00:00  1177.031953  \n",
      "2018-03-01 06:00:00  1182.692485  \n",
      "2018-03-02 06:00:00  1152.210532  \n",
      "2018-03-03 06:00:00  1165.822322  \n",
      "2018-03-04 06:00:00  1166.299380  \n",
      "2018-03-05 06:00:00  1149.328546  \n",
      "2018-03-06 06:00:00  1113.903672  \n",
      "2018-03-07 06:00:00  1111.159528  \n",
      "2018-03-08 06:00:00  1109.889743  \n",
      "2018-03-09 06:00:00  1065.593607  \n",
      "2018-03-10 06:00:00  1037.835443  \n",
      "2018-03-11 06:00:00  1065.209914  \n",
      "2018-03-12 06:00:00  1012.986941  \n",
      "\n",
      "[3424 rows x 6 columns]>\n"
     ]
    }
   ],
   "source": [
    "print(df.head)"
   ]
  },
  {
   "cell_type": "code",
   "execution_count": null,
   "metadata": {},
   "outputs": [],
   "source": []
  }
 ],
 "metadata": {
  "kernelspec": {
   "display_name": "Python 3",
   "language": "python",
   "name": "python3"
  },
  "language_info": {
   "codemirror_mode": {
    "name": "ipython",
    "version": 3
   },
   "file_extension": ".py",
   "mimetype": "text/x-python",
   "name": "python",
   "nbconvert_exporter": "python",
   "pygments_lexer": "ipython3",
   "version": "3.6.4"
  }
 },
 "nbformat": 4,
 "nbformat_minor": 2
}
