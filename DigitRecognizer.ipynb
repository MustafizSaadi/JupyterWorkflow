{
 "cells": [
  {
   "cell_type": "code",
   "execution_count": 1,
   "metadata": {},
   "outputs": [
    {
     "name": "stderr",
     "output_type": "stream",
     "text": [
      "C:\\Users\\Ludwig Prandtl\\Anaconda3\\lib\\site-packages\\sklearn\\cross_validation.py:41: DeprecationWarning: This module was deprecated in version 0.18 in favor of the model_selection module into which all the refactored classes and functions are moved. Also note that the interface of the new CV iterators are different from that of this module. This module will be removed in 0.20.\n",
      "  \"This module will be removed in 0.20.\", DeprecationWarning)\n"
     ]
    }
   ],
   "source": [
    "import numpy as np\n",
    "import pandas as pd\n",
    "import quandl as qd\n",
    "import matplotlib.pyplot as plt\n",
    "from matplotlib import style\n",
    "import math\n",
    "import sklearn\n",
    "from sklearn import preprocessing, cross_validation, svm\n",
    "import statistics as stat \n",
    "import scipy.optimize as opt\n",
    "import sys"
   ]
  },
  {
   "cell_type": "code",
   "execution_count": 34,
   "metadata": {},
   "outputs": [],
   "source": [
    "df_train=pd.read_csv('digit_recognition_train.csv',delimiter=',')\n",
    "df_test=pd.read_csv('digit_recognition_test.csv',delimiter=',')\n",
    "# print(df_test)"
   ]
  },
  {
   "cell_type": "code",
   "execution_count": 35,
   "metadata": {},
   "outputs": [],
   "source": [
    "X = np.array(df_train.drop(['label'], 1))\n",
    "y = np.array(df_train['label'])\n",
    "X_test = np.array(df_test)\n",
    "# print(X.shape,y.shape)"
   ]
  },
  {
   "cell_type": "code",
   "execution_count": 4,
   "metadata": {},
   "outputs": [
    {
     "data": {
      "image/png": "[encoded data removed]",
      "text/plain": [
       "<matplotlib.figure.Figure at 0x26b2285ed30>"
      ]
     },
     "metadata": {},
     "output_type": "display_data"
    }
   ],
   "source": [
    "width = int(np.sqrt(X.shape[1]))\n",
    "disp = np.array(np.zeros((width,width)))\n",
    "for i in range(width):\n",
    "    for j in range(width):\n",
    "        disp[i][j]=X[1000][i*width +j]\n",
    "        \n",
    "plt.imshow(disp,interpolation='nearest')\n",
    "plt.show()\n",
    "X=np.c_[np.ones(X.shape[0]),X]\n",
    "theta = np.array(np.zeros(X.shape[1]))"
   ]
  },
  {
   "cell_type": "code",
   "execution_count": 9,
   "metadata": {},
   "outputs": [
    {
     "name": "stderr",
     "output_type": "stream",
     "text": [
      "C:\\Users\\Ludwig Prandtl\\Anaconda3\\lib\\site-packages\\ipykernel_launcher.py:2: RuntimeWarning: overflow encountered in exp\n",
      "  \n",
      "C:\\Users\\Ludwig Prandtl\\Anaconda3\\lib\\site-packages\\ipykernel_launcher.py:7: RuntimeWarning: divide by zero encountered in log\n",
      "  import sys\n",
      "C:\\Users\\Ludwig Prandtl\\Anaconda3\\lib\\site-packages\\ipykernel_launcher.py:7: RuntimeWarning: invalid value encountered in multiply\n",
      "  import sys\n",
      "C:\\Users\\Ludwig Prandtl\\Anaconda3\\lib\\site-packages\\ipykernel_launcher.py:8: RuntimeWarning: divide by zero encountered in log\n",
      "  \n",
      "C:\\Users\\Ludwig Prandtl\\Anaconda3\\lib\\site-packages\\ipykernel_launcher.py:8: RuntimeWarning: invalid value encountered in multiply\n",
      "  \n"
     ]
    },
    {
     "name": "stdout",
     "output_type": "stream",
     "text": [
      "Warning: Desired error not necessarily achieved due to precision loss.\n",
      "         Current function value: 0.025331\n",
      "         Iterations: 49\n",
      "         Function evaluations: 159\n",
      "         Gradient evaluations: 147\n"
     ]
    },
    {
     "name": "stderr",
     "output_type": "stream",
     "text": [
      "C:\\Users\\Ludwig Prandtl\\Anaconda3\\lib\\site-packages\\ipykernel_launcher.py:2: RuntimeWarning: overflow encountered in exp\n",
      "  \n",
      "C:\\Users\\Ludwig Prandtl\\Anaconda3\\lib\\site-packages\\ipykernel_launcher.py:7: RuntimeWarning: divide by zero encountered in log\n",
      "  import sys\n",
      "C:\\Users\\Ludwig Prandtl\\Anaconda3\\lib\\site-packages\\ipykernel_launcher.py:7: RuntimeWarning: invalid value encountered in multiply\n",
      "  import sys\n",
      "C:\\Users\\Ludwig Prandtl\\Anaconda3\\lib\\site-packages\\ipykernel_launcher.py:8: RuntimeWarning: divide by zero encountered in log\n",
      "  \n",
      "C:\\Users\\Ludwig Prandtl\\Anaconda3\\lib\\site-packages\\ipykernel_launcher.py:8: RuntimeWarning: invalid value encountered in multiply\n",
      "  \n"
     ]
    },
    {
     "name": "stdout",
     "output_type": "stream",
     "text": [
      "Warning: Desired error not necessarily achieved due to precision loss.\n",
      "         Current function value: 0.023301\n",
      "         Iterations: 37\n",
      "         Function evaluations: 172\n",
      "         Gradient evaluations: 160\n"
     ]
    },
    {
     "name": "stderr",
     "output_type": "stream",
     "text": [
      "C:\\Users\\Ludwig Prandtl\\Anaconda3\\lib\\site-packages\\ipykernel_launcher.py:2: RuntimeWarning: overflow encountered in exp\n",
      "  \n",
      "C:\\Users\\Ludwig Prandtl\\Anaconda3\\lib\\site-packages\\ipykernel_launcher.py:7: RuntimeWarning: divide by zero encountered in log\n",
      "  import sys\n",
      "C:\\Users\\Ludwig Prandtl\\Anaconda3\\lib\\site-packages\\ipykernel_launcher.py:7: RuntimeWarning: invalid value encountered in multiply\n",
      "  import sys\n",
      "C:\\Users\\Ludwig Prandtl\\Anaconda3\\lib\\site-packages\\ipykernel_launcher.py:8: RuntimeWarning: divide by zero encountered in log\n",
      "  \n",
      "C:\\Users\\Ludwig Prandtl\\Anaconda3\\lib\\site-packages\\ipykernel_launcher.py:8: RuntimeWarning: invalid value encountered in multiply\n",
      "  \n"
     ]
    },
    {
     "name": "stdout",
     "output_type": "stream",
     "text": [
      "Warning: Maximum number of iterations has been exceeded.\n",
      "         Current function value: 0.070653\n",
      "         Iterations: 50\n",
      "         Function evaluations: 96\n",
      "         Gradient evaluations: 96\n",
      "Warning: Maximum number of iterations has been exceeded.\n",
      "         Current function value: 0.089100\n",
      "         Iterations: 50\n",
      "         Function evaluations: 108\n",
      "         Gradient evaluations: 108\n",
      "Warning: Maximum number of iterations has been exceeded.\n",
      "         Current function value: 0.049597\n",
      "         Iterations: 50\n",
      "         Function evaluations: 112\n",
      "         Gradient evaluations: 112\n",
      "Warning: Maximum number of iterations has been exceeded.\n",
      "         Current function value: 0.086812\n",
      "         Iterations: 50\n",
      "         Function evaluations: 109\n",
      "         Gradient evaluations: 109\n",
      "Warning: Maximum number of iterations has been exceeded.\n",
      "         Current function value: 0.039488\n",
      "         Iterations: 50\n",
      "         Function evaluations: 110\n",
      "         Gradient evaluations: 110\n",
      "Warning: Maximum number of iterations has been exceeded.\n",
      "         Current function value: 0.046091\n",
      "         Iterations: 50\n",
      "         Function evaluations: 106\n",
      "         Gradient evaluations: 106\n"
     ]
    },
    {
     "name": "stderr",
     "output_type": "stream",
     "text": [
      "C:\\Users\\Ludwig Prandtl\\Anaconda3\\lib\\site-packages\\ipykernel_launcher.py:2: RuntimeWarning: overflow encountered in exp\n",
      "  \n",
      "C:\\Users\\Ludwig Prandtl\\Anaconda3\\lib\\site-packages\\ipykernel_launcher.py:7: RuntimeWarning: divide by zero encountered in log\n",
      "  import sys\n",
      "C:\\Users\\Ludwig Prandtl\\Anaconda3\\lib\\site-packages\\ipykernel_launcher.py:7: RuntimeWarning: invalid value encountered in multiply\n",
      "  import sys\n"
     ]
    },
    {
     "name": "stdout",
     "output_type": "stream",
     "text": [
      "Warning: Desired error not necessarily achieved due to precision loss.\n",
      "         Current function value: 0.693148\n",
      "         Iterations: 0\n",
      "         Function evaluations: 20\n",
      "         Gradient evaluations: 16\n"
     ]
    },
    {
     "name": "stderr",
     "output_type": "stream",
     "text": [
      "C:\\Users\\Ludwig Prandtl\\Anaconda3\\lib\\site-packages\\ipykernel_launcher.py:2: RuntimeWarning: overflow encountered in exp\n",
      "  \n",
      "C:\\Users\\Ludwig Prandtl\\Anaconda3\\lib\\site-packages\\ipykernel_launcher.py:7: RuntimeWarning: divide by zero encountered in log\n",
      "  import sys\n",
      "C:\\Users\\Ludwig Prandtl\\Anaconda3\\lib\\site-packages\\ipykernel_launcher.py:7: RuntimeWarning: invalid value encountered in multiply\n",
      "  import sys\n"
     ]
    },
    {
     "name": "stdout",
     "output_type": "stream",
     "text": [
      "Warning: Maximum number of iterations has been exceeded.\n",
      "         Current function value: 0.109514\n",
      "         Iterations: 50\n",
      "         Function evaluations: 98\n",
      "         Gradient evaluations: 98\n"
     ]
    }
   ],
   "source": [
    "lam = 0.1\n",
    "# print(X.shape)\n",
    "k=10\n",
    "theta = np.array(np.zeros((k,X.shape[1])))\n",
    "# print(theta.shape)\n",
    "theta = optimize(X,y,theta,k,lam)\n",
    "# cost,hypo = costFunction(X,y,theta,lam)\n",
    "# grade = gradient(X,y,theta,lam,hypo)\n",
    "# print(cost)\n",
    "# print(grade)"
   ]
  },
  {
   "cell_type": "code",
   "execution_count": 5,
   "metadata": {},
   "outputs": [],
   "source": [
    "def sigmoid(z):\n",
    "    return 1/(1+np.exp(-z))"
   ]
  },
  {
   "cell_type": "code",
   "execution_count": 6,
   "metadata": {},
   "outputs": [],
   "source": [
    "def costFunction(theta,X,y,lam):\n",
    "    m = y.shape[0]\n",
    "#     print(theta.shape)\n",
    "#     print(X.shape)\n",
    "    theta_mul_x = np.dot(X,theta.T)\n",
    "    hypo = sigmoid(theta_mul_x)\n",
    "    lg1 = np.multiply(-1*y,np.log(hypo))\n",
    "    lg2 = np.multiply(1-y,np.log(1-hypo))\n",
    "    j = (np.sum(lg1-lg2))/m\n",
    "    regularize = np.dot(theta,theta.T)\n",
    "#     for i in range(theta.shape[1]):\n",
    "#         if i!=0:\n",
    "#             regularize += theta[i]*theta[i]\n",
    "    regularize -= theta[0]* theta[0]\n",
    "    regularize += lam/(2*m)\n",
    "    j += regularize\n",
    "    return j"
   ]
  },
  {
   "cell_type": "code",
   "execution_count": 7,
   "metadata": {},
   "outputs": [],
   "source": [
    "def gradient(theta,X,y,lam):\n",
    "    m=y.shape[0]\n",
    "#     print(theta.shape)\n",
    "#     print(X.shape)\n",
    "    theta_mul_x = np.dot(X,theta.T)\n",
    "    hypo = sigmoid(theta_mul_x)\n",
    "    grade = np.array(np.zeros(theta.shape[0]))\n",
    "    temp = X[:,0] \n",
    "#     print( temp.shape)\n",
    "    for i in range(theta.shape[0]):\n",
    "        if i==0:\n",
    "            grade[i] = (np.sum(np.multiply((hypo - y),X[:,i]))) /m\n",
    "        else :\n",
    "            grade[i] = ((np.sum(np.multiply((hypo - y),X[:,i]))) /m) + (lam/m) * theta[i]\n",
    "    return grade\n",
    "            "
   ]
  },
  {
   "cell_type": "code",
   "execution_count": 8,
   "metadata": {},
   "outputs": [],
   "source": [
    "def optimize(X,y,theta,k,lam):\n",
    "    for i in range(k):\n",
    "        digit_class = i\n",
    "        theta[i] = opt.fmin_cg(f=costFunction,x0=theta[i],fprime=gradient,args = (X,(y==digit_class).flatten(),lam),maxiter=50) # y==digit_class means for digit_class i if i equals y then y is 1 otherwise y is 0 \n",
    "    return theta"
   ]
  },
  {
   "cell_type": "code",
   "execution_count": 32,
   "metadata": {},
   "outputs": [
    {
     "data": {
      "image/png": "[encoded data removed]",
      "text/plain": [
       "<matplotlib.figure.Figure at 0x26b270a2e48>"
      ]
     },
     "metadata": {},
     "output_type": "display_data"
    }
   ],
   "source": [
    "width2 = int(np.sqrt(X_test.shape[1]))\n",
    "disp2 = np.array(np.zeros((width2,width2)))\n",
    "for i in range(width2):\n",
    "    for j in range(width2):\n",
    "        disp2[i][j]=X_test[24][i*width2 +j]\n",
    "        \n",
    "plt.imshow(disp2,interpolation='nearest')\n",
    "plt.show()"
   ]
  },
  {
   "cell_type": "code",
   "execution_count": 14,
   "metadata": {},
   "outputs": [],
   "source": [
    "X_test=np.c_[np.ones(X_test.shape[0]),X_test]"
   ]
  },
  {
   "cell_type": "code",
   "execution_count": 33,
   "metadata": {},
   "outputs": [
    {
     "name": "stdout",
     "output_type": "stream",
     "text": [
      "(array([7], dtype=int64),)\n"
     ]
    }
   ],
   "source": [
    "ans = predict(theta,X_test,24)\n",
    "print(ans)"
   ]
  },
  {
   "cell_type": "code",
   "execution_count": 15,
   "metadata": {},
   "outputs": [],
   "source": [
    "def predict(theta,X,row):\n",
    "    temp = X[row]\n",
    "    res = np.dot(theta,temp.T)\n",
    "#     m = theta.shape[0]\n",
    "    ans = np.where(res==np.amax(res))\n",
    "    return ans"
   ]
  },
  {
   "cell_type": "code",
   "execution_count": null,
   "metadata": {},
   "outputs": [],
   "source": []
  }
 ],
 "metadata": {
  "kernelspec": {
   "display_name": "Python 3",
   "language": "python",
   "name": "python3"
  },
  "language_info": {
   "codemirror_mode": {
    "name": "ipython",
    "version": 3
   },
   "file_extension": ".py",
   "mimetype": "text/x-python",
   "name": "python",
   "nbconvert_exporter": "python",
   "pygments_lexer": "ipython3",
   "version": "3.6.4"
  }
 },
 "nbformat": 4,
 "nbformat_minor": 2
}
