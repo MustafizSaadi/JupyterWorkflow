{
 "cells": [
  {
   "cell_type": "code",
   "execution_count": 1,
   "metadata": {},
   "outputs": [
    {
     "name": "stderr",
     "output_type": "stream",
     "text": [
      "C:\\Users\\Ludwig Prandtl\\Anaconda3\\lib\\site-packages\\sklearn\\cross_validation.py:41: DeprecationWarning: This module was deprecated in version 0.18 in favor of the model_selection module into which all the refactored classes and functions are moved. Also note that the interface of the new CV iterators are different from that of this module. This module will be removed in 0.20.\n",
      "  \"This module will be removed in 0.20.\", DeprecationWarning)\n"
     ]
    }
   ],
   "source": [
    "import numpy as np\n",
    "import pandas as pd\n",
    "import quandl as qd\n",
    "import matplotlib.pyplot as plt\n",
    "from matplotlib import style\n",
    "import math\n",
    "import sklearn\n",
    "from sklearn import preprocessing, cross_validation, svm\n",
    "import statistics as stat "
   ]
  },
  {
   "cell_type": "code",
   "execution_count": 2,
   "metadata": {},
   "outputs": [
    {
     "name": "stdout",
     "output_type": "stream",
     "text": [
      "    Year  Population\n",
      "0   2007     9182927\n",
      "1   2008     9256347\n",
      "2   2009     9340682\n",
      "3   2010     9415570\n",
      "4   2011     9482855\n",
      "5   2012     9555893\n",
      "6   2013     9644864\n",
      "7   2014     9747355\n",
      "8   2015     9851017\n",
      "9   2016     9995153\n",
      "10  2017    10120242\n",
      "11  2018    10230185\n",
      "12  2006     9113257\n",
      "13  2005     9047752\n",
      "14  2004     9011392\n",
      "15  2003     8975670\n",
      "16  2002     8940788\n",
      "17  2001     8909128\n",
      "18  2000     8882792\n",
      "19  1999     8861426\n"
     ]
    }
   ],
   "source": [
    "df=pd.read_csv('population.csv',delimiter=';')\n",
    "print (df)"
   ]
  },
  {
   "cell_type": "code",
   "execution_count": 5,
   "metadata": {},
   "outputs": [
    {
     "data": {
      "image/png": "[encoded data removed]",
      "text/plain": [
       "<matplotlib.figure.Figure at 0x226f63556a0>"
      ]
     },
     "metadata": {},
     "output_type": "display_data"
    },
    {
     "name": "stdout",
     "output_type": "stream",
     "text": [
      "[[-1.11392409]\n",
      " [ 0.70472748]\n",
      " [-0.2045983 ]\n",
      " [ 1.79591843]\n",
      " [ 1.25032296]\n",
      " [-1.65951956]\n",
      " [-0.02273314]\n",
      " [-0.38646346]\n",
      " [-0.56832862]\n",
      " [ 0.88659264]\n",
      " [-1.29578924]\n",
      " [ 0.52286233]\n",
      " [ 0.15913201]\n",
      " [ 0.34099717]\n",
      " [-1.4776544 ]\n",
      " [ 1.0684578 ]]\n",
      "[[-1.11392409]\n",
      " [ 0.70472748]\n",
      " [-0.2045983 ]\n",
      " [ 1.79591843]\n",
      " [ 1.25032296]\n",
      " [-1.65951956]\n",
      " [-0.02273314]\n",
      " [-0.38646346]\n",
      " [-0.56832862]\n",
      " [ 0.88659264]\n",
      " [-1.29578924]\n",
      " [ 0.52286233]\n",
      " [ 0.15913201]\n",
      " [ 0.34099717]\n",
      " [-1.4776544 ]\n",
      " [ 1.0684578 ]]\n"
     ]
    }
   ],
   "source": [
    "X = np.array(df.drop(['Population'], 1),dtype=float)\n",
    "y = np.array(df['Population'])\n",
    "plt.scatter(X,y,color='k')\n",
    "plt.xlabel('year')\n",
    "plt.ylabel('Population')\n",
    "plt.show()\n",
    "X_train, X_test, y_train, y_test = cross_validation.train_test_split(X, y, test_size=0.2)\n",
    "X_train,mean,std=featureNormalize(X_train)\n",
    "print(X_train)"
   ]
  },
  {
   "cell_type": "code",
   "execution_count": 8,
   "metadata": {},
   "outputs": [
    {
     "name": "stdout",
     "output_type": "stream",
     "text": [
      "[-1.04835781e+00  5.61194747e-01 -4.14749813e-01  2.32562263e+00\n",
      "  1.33344922e+00 -1.25602530e+00 -2.22630827e-01 -5.97056129e-01\n",
      " -7.68463840e-01  7.94006219e-01 -1.13120291e+00  3.70075345e-01\n",
      " -1.95043161e-03  1.94009887e-01 -1.20011663e+00  1.06219564e+00]\n",
      "(16, 2) 382159.0029442711 9341427.375\n"
     ]
    }
   ],
   "source": [
    "# b=np.ones(X.shape[0])\n",
    "X_train=np.c_[np.ones(X_train.shape[0]),X_train]\n",
    "meany = np.mean(y_train)\n",
    "stdy = np.std(y_train)\n",
    "y_train = (y_train-meany)/stdy\n",
    "print(y_train)\n",
    "print(X_train.shape,stdy,meany)"
   ]
  },
  {
   "cell_type": "code",
   "execution_count": 9,
   "metadata": {},
   "outputs": [
    {
     "name": "stdout",
     "output_type": "stream",
     "text": [
      "(2,)\n"
     ]
    }
   ],
   "source": [
    "theta=np.array(np.zeros(X_train.shape[1]))\n",
    "iterations=1000\n",
    "alpha=0.1\n",
    "print(theta.shape)\n",
    "j_history = np.array(np.zeros(iterations))\n",
    "theta,j_history=gradientDescent(X_train,y_train,alpha,theta,iterations,j_history)"
   ]
  },
  {
   "cell_type": "code",
   "execution_count": 7,
   "metadata": {},
   "outputs": [],
   "source": [
    "def computeCost(X,y,theta):\n",
    "    m=y.shape[0]\n",
    "    j=(1/(2*m))*np.sum(np.square(np.dot((theta.T),(X.T))-(y.T)))\n",
    "    return j"
   ]
  },
  {
   "cell_type": "code",
   "execution_count": 6,
   "metadata": {},
   "outputs": [],
   "source": [
    "def gradientDescent(X,y,alpha,theta,num_iters,j_history):\n",
    "    m=y.shape[0]\n",
    "    for i in range(num_iters):\n",
    "        theta=theta-(((alpha)*np.dot((np.dot((theta.T),(X.T))-(y.T)),X))/m).T\n",
    "#         print (theta)\n",
    "        j_history[i] = (computeCost(X,y,theta))    \n",
    "    return theta,j_history"
   ]
  },
  {
   "cell_type": "code",
   "execution_count": 4,
   "metadata": {},
   "outputs": [],
   "source": [
    "def featureNormalize(X):\n",
    "    mean = np.mean(X)\n",
    "    std = np.std(X)\n",
    "    X=(X-mean)/std\n",
    "    print (X)\n",
    "    return X,mean,std\n",
    "    "
   ]
  },
  {
   "cell_type": "code",
   "execution_count": 10,
   "metadata": {},
   "outputs": [
    {
     "name": "stdout",
     "output_type": "stream",
     "text": [
      "(2,)\n"
     ]
    }
   ],
   "source": [
    "print (theta.shape)"
   ]
  },
  {
   "cell_type": "code",
   "execution_count": 11,
   "metadata": {},
   "outputs": [
    {
     "data": {
      "image/png": "[encoded data removed]",
      "text/plain": [
       "<matplotlib.figure.Figure at 0x226f64769b0>"
      ]
     },
     "metadata": {},
     "output_type": "display_data"
    }
   ],
   "source": [
    "plt.scatter(X_train[:,[1]],y_train,color='k')\n",
    "plt.xlabel('year')\n",
    "plt.ylabel('Population')\n",
    "plt.plot(X_train[:,[1]],np.dot(theta.T,X_train.T))\n",
    "plt.show()"
   ]
  },
  {
   "cell_type": "code",
   "execution_count": 12,
   "metadata": {},
   "outputs": [
    {
     "data": {
      "image/png": "[encoded data removed]",
      "text/plain": [
       "<matplotlib.figure.Figure at 0x226f65688d0>"
      ]
     },
     "metadata": {},
     "output_type": "display_data"
    }
   ],
   "source": [
    "no_iteration = np.array(np.zeros(iterations))\n",
    "for i in range(iterations):\n",
    "    no_iteration[i]=i\n",
    "plt.plot(no_iteration,j_history)\n",
    "plt.xlabel('no. of iteartions')\n",
    "plt.ylabel('cost')\n",
    "plt.show()"
   ]
  },
  {
   "cell_type": "code",
   "execution_count": 32,
   "metadata": {},
   "outputs": [
    {
     "name": "stdout",
     "output_type": "stream",
     "text": [
      "[9062146.47984496]\n",
      "[9062146.47984496] 9011392\n"
     ]
    }
   ],
   "source": [
    "# print(X_test[0],y_test[0])\n",
    "predicted_val = predict(theta[1],(X_test[0]-mean)/std,y_test[0])\n",
    "print(predicted_val,y_test[0])"
   ]
  },
  {
   "cell_type": "code",
   "execution_count": 30,
   "metadata": {},
   "outputs": [],
   "source": [
    "def predict(theta,x,y):\n",
    "#     print(stdy,meany)\n",
    "#     ans =((((theta*x)*stdy)+meany)/y)*100\n",
    "    ans = (((theta*x)*stdy)+meany)\n",
    "#     print(ans)\n",
    "    return ans"
   ]
  },
  {
   "cell_type": "code",
   "execution_count": null,
   "metadata": {},
   "outputs": [],
   "source": []
  }
 ],
 "metadata": {
  "kernelspec": {
   "display_name": "Python 3",
   "language": "python",
   "name": "python3"
  },
  "language_info": {
   "codemirror_mode": {
    "name": "ipython",
    "version": 3
   },
   "file_extension": ".py",
   "mimetype": "text/x-python",
   "name": "python",
   "nbconvert_exporter": "python",
   "pygments_lexer": "ipython3",
   "version": "3.6.4"
  }
 },
 "nbformat": 4,
 "nbformat_minor": 2
}
